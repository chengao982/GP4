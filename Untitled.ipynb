{
 "cells": [
  {
   "cell_type": "code",
   "execution_count": 1,
   "metadata": {},
   "outputs": [],
   "source": [
    "import cvxopt\n",
    "from cvxopt.glpk import ilp\n",
    "import numpy as np\n",
    "import time\n",
    "import math"
   ]
  },
  {
   "cell_type": "code",
   "execution_count": 45,
   "metadata": {},
   "outputs": [],
   "source": [
    "import pandas as pd\n",
    "import os"
   ]
  },
  {
   "cell_type": "code",
   "execution_count": 194,
   "metadata": {},
   "outputs": [
    {
     "name": "stdout",
     "output_type": "stream",
     "text": [
      "Help on built-in function ilp in module cvxopt.glpk:\n",
      "\n",
      "ilp(...)\n",
      "    Solves a mixed integer linear program using GLPK.\n",
      "    \n",
      "    (status, x) = ilp(c, G, h, A, b, I, B)\n",
      "    \n",
      "    PURPOSE\n",
      "    Solves the mixed integer linear programming problem\n",
      "    \n",
      "        minimize    c'*x\n",
      "        subject to  G*x <= h\n",
      "                    A*x = b\n",
      "                    x[k] is integer for k in I\n",
      "                    x[k] is binary for k in B\n",
      "    \n",
      "    ARGUMENTS\n",
      "    c            nx1 dense 'd' matrix with n>=1\n",
      "    \n",
      "    G            mxn dense or sparse 'd' matrix with m>=1\n",
      "    \n",
      "    h            mx1 dense 'd' matrix\n",
      "    \n",
      "    A            pxn dense or sparse 'd' matrix with p>=0\n",
      "    \n",
      "    b            px1 dense 'd' matrix\n",
      "    \n",
      "    I            set of indices of integer variables\n",
      "    \n",
      "    B            set of indices of binary variables\n",
      "    \n",
      "    status       if status is 'optimal', 'feasible', or 'undefined',\n",
      "                 a value of x is returned and the status string \n",
      "                 gives the status of x.  Other possible values of              status are:  'invalid formulation', \n",
      "                 'infeasible problem', 'LP relaxation is primal \n",
      "                 infeasible', 'LP relaxation is dual infeasible', \n",
      "                 'unknown'.\n",
      "    \n",
      "    x            a (sub-)optimal solution if status is 'optimal', \n",
      "                 'feasible', or 'undefined'.  None otherwise\n",
      "\n"
     ]
    }
   ],
   "source": [
    "help(cvxopt.glpk.ilp)"
   ]
  },
  {
   "cell_type": "code",
   "execution_count": 144,
   "metadata": {},
   "outputs": [],
   "source": [
    "def Generate_A(n):\n",
    "    A = np.zeros((n+2,2*n+2))\n",
    "    A[0,0] = 1\n",
    "    A[1,0] = -1\n",
    "    A[0,2*n+1] = 1\n",
    "    A[n+1,2*n+1] = -1\n",
    "    for i in range(0,n):\n",
    "        A[i+1,2*i+1] = 1;\n",
    "        A[i+1,2*i+2] = 1;\n",
    "        A[i+2,2*i+1] = -1;\n",
    "        A[i+2,2*i+2] = -1;\n",
    "    return A"
   ]
  },
  {
   "cell_type": "code",
   "execution_count": 223,
   "metadata": {},
   "outputs": [
    {
     "name": "stdout",
     "output_type": "stream",
     "text": [
      "[ 1.00e+00  0.00e+00  0.00e+00  0.00e+00  0.00e+00  1.00e+00]\n",
      "[-1.00e+00  1.00e+00  1.00e+00  0.00e+00  0.00e+00  0.00e+00]\n",
      "[ 0.00e+00 -1.00e+00 -1.00e+00  1.00e+00  1.00e+00  0.00e+00]\n",
      "[ 0.00e+00  0.00e+00  0.00e+00 -1.00e+00 -1.00e+00 -1.00e+00]\n",
      "\n",
      "[ 1.00e+00]\n",
      "[ 0.00e+00]\n",
      "[ 0.00e+00]\n",
      "[-1.00e+00]\n",
      "\n",
      "False\n"
     ]
    }
   ],
   "source": [
    "A = cvxopt.matrix(Generate_A(2),tc='d')\n",
    "print(A)\n",
    "b = cvxopt.matrix(np.array([[1,0,0,-1]]).T,tc='d')\n",
    "print(b)\n",
    "G = cvxopt.matrix(0.0,(1,6))\n",
    "h = cvxopt.matrix(0.0,(1,1))\n",
    "mu = cvxopt.matrix(np.array([[10,10,11,11,10,31]]).T,tc='d')\n",
    "_,x = cvxopt.glpk.ilp(mu,G,h,A,b,B=set(range(6)))\n",
    "print(x == None)"
   ]
  },
  {
   "cell_type": "code",
   "execution_count": 217,
   "metadata": {},
   "outputs": [],
   "source": [
    "def cvxopt_glpk_minmax(c, A, b, x_min=0):\n",
    "    dim = np.size(c,0)\n",
    "\n",
    "    x_min = x_min * np.ones(dim)\n",
    "    # x_max = x_max * ones(n)\n",
    "    # G = np.vstack([+np.eye(dim),-np.eye(dim)])\n",
    "    # h = np.hstack([x_max, -x_min])\n",
    "    G = -np.eye(dim)\n",
    "\n",
    "    c = cvxopt.matrix(c,tc='d')\n",
    "    A = cvxopt.matrix(A,tc='d')\n",
    "    b = cvxopt.matrix(b,tc='d')\n",
    "    G = cvxopt.matrix(G,tc='d')\n",
    "    h = cvxopt.matrix(x_min.T,tc='d')\n",
    "    sol = cvxopt.solvers.lp(c, G, h, A, b, solver='glpk',options={'glpk':{'msg_lev':'GLP_MSG_OFF'}})\n",
    "    return np.array(sol['x'])"
   ]
  },
  {
   "cell_type": "code",
   "execution_count": 193,
   "metadata": {},
   "outputs": [
    {
     "name": "stdout",
     "output_type": "stream",
     "text": [
      "<class 'numpy.bool_'>\n"
     ]
    }
   ],
   "source": [
    "x = cvxopt_glpk_minmax(mu,A,b)\n",
    "print(type(x.all()))"
   ]
  },
  {
   "cell_type": "code",
   "execution_count": 230,
   "metadata": {},
   "outputs": [
    {
     "name": "stdout",
     "output_type": "stream",
     "text": [
      "1.1339870000000012\n",
      "[ 1.00e+00]\n",
      "[ 1.00e+00]\n",
      "[ 0.00e+00]\n",
      "[ 0.00e+00]\n",
      "[ 1.00e+00]\n",
      "[ 0.00e+00]\n",
      "\n",
      "[[30.]]\n"
     ]
    }
   ],
   "source": [
    "start = time.process_time()\n",
    "for i in range(0,10000):\n",
    "#     mu = cvxopt.matrix(np.hstack([np.random.rand(1,5),np.array([[1.3]])]).T,tc='d')\n",
    "    _,x = cvxopt.glpk.ilp(mu,A,b,B=set(range(6)))\n",
    "end = time.process_time()\n",
    "print(end-start)\n",
    "print(x)\n",
    "print(np.dot(x.T,mu))"
   ]
  },
  {
   "cell_type": "code",
   "execution_count": 231,
   "metadata": {},
   "outputs": [
    {
     "name": "stdout",
     "output_type": "stream",
     "text": [
      "1.0168749999999989\n",
      "[ 1.00e+00]\n",
      "[ 1.00e+00]\n",
      "[-0.00e+00]\n",
      "[-0.00e+00]\n",
      "[ 1.00e+00]\n",
      "[-0.00e+00]\n",
      "\n",
      "[[30.]]\n"
     ]
    }
   ],
   "source": [
    "start = time.process_time()\n",
    "for i in range(0,10000):\n",
    "#     mu = cvxopt.matrix(np.hstack([np.random.rand(1,5),np.array([[1.3]])]).T,tc='d')\n",
    "    _,x = cvxopt.glpk.ilp(mu,G3,h3,A,b)\n",
    "end = time.process_time()\n",
    "print(end-start)\n",
    "print(x)\n",
    "print(np.dot(x.T,mu))"
   ]
  },
  {
   "cell_type": "code",
   "execution_count": 232,
   "metadata": {},
   "outputs": [
    {
     "name": "stdout",
     "output_type": "stream",
     "text": [
      "1.0229859999999995\n",
      "[ 1.00e+00]\n",
      "[ 1.00e+00]\n",
      "[ 0.00e+00]\n",
      "[ 0.00e+00]\n",
      "[ 1.00e+00]\n",
      "[ 0.00e+00]\n",
      "\n",
      "[[30.]]\n"
     ]
    }
   ],
   "source": [
    "start = time.process_time()\n",
    "for i in range(0,10000):\n",
    "#     mu = cvxopt.matrix(np.hstack([np.random.rand(1,5),np.array([[1.3]])]).T,tc='d')\n",
    "    _,x = cvxopt.glpk.ilp(mu,G2,h2,A,b)\n",
    "end = time.process_time()\n",
    "print(end-start)\n",
    "print(x)\n",
    "print(np.dot(x.T,mu))"
   ]
  },
  {
   "cell_type": "code",
   "execution_count": 233,
   "metadata": {},
   "outputs": [
    {
     "name": "stdout",
     "output_type": "stream",
     "text": [
      "0.830687999999995\n",
      "[[1.]\n",
      " [1.]\n",
      " [0.]\n",
      " [0.]\n",
      " [1.]\n",
      " [0.]]\n",
      "[[30.]]\n"
     ]
    }
   ],
   "source": [
    "start = time.process_time()\n",
    "for i in range(0,10000):\n",
    "#     mu = cvxopt.matrix(np.hstack([np.random.rand(1,5),np.array([[1.3]])]).T,tc='d')\n",
    "    sol = cvxopt.solvers.lp(mu,G3,h3,A,b,solver='glpk')\n",
    "    x = np.array(sol['x'])\n",
    "end = time.process_time()\n",
    "print(end-start)\n",
    "print(x)\n",
    "print(np.dot(x.T,mu))"
   ]
  },
  {
   "cell_type": "code",
   "execution_count": 216,
   "metadata": {},
   "outputs": [],
   "source": [
    "def cvxopt_solve_minmax(n, a, B, x_min=-42, x_max=42, solver=None):\n",
    "    c = hstack([zeros(n), [1]])\n",
    "\n",
    "    # cvxopt constraint format: G * x <= h\n",
    "    # first,  a + B * x[0:n] <= x[n]\n",
    "    G1 = zeros((n, n + 1))\n",
    "    G1[0:n, 0:n] = B\n",
    "    G1[:, n] = -ones(n)\n",
    "    h1 = -a\n",
    "\n",
    "    # then, x_min <= x <= x_max\n",
    "    x_min = x_min * ones(n)\n",
    "    x_max = x_max * ones(n)\n",
    "    G2 = vstack([\n",
    "        hstack([+eye(n), zeros((n, 1))]),\n",
    "        hstack([-eye(n), zeros((n, 1))])])\n",
    "    h2 = hstack([x_max, -x_min])\n",
    "\n",
    "    c = cvxopt.matrix(c)\n",
    "    G = cvxopt.matrix(vstack([G1, G2]))\n",
    "    h = cvxopt.matrix(hstack([h1, h2]))\n",
    "    sol = cvxopt.solvers.lp(c, G, h, solver=solver)\n",
    "    return array(sol['x']).reshape((n + 1,))"
   ]
  },
  {
   "cell_type": "code",
   "execution_count": 198,
   "metadata": {},
   "outputs": [
    {
     "name": "stdout",
     "output_type": "stream",
     "text": [
      "[[ 1.  0.  0.  0.  0.  0.]\n",
      " [ 0.  1.  0.  0.  0.  0.]\n",
      " [ 0.  0.  1.  0.  0.  0.]\n",
      " [ 0.  0.  0.  1.  0.  0.]\n",
      " [ 0.  0.  0.  0.  1.  0.]\n",
      " [ 0.  0.  0.  0.  0.  1.]\n",
      " [-1. -0. -0. -0. -0. -0.]\n",
      " [-0. -1. -0. -0. -0. -0.]\n",
      " [-0. -0. -1. -0. -0. -0.]\n",
      " [-0. -0. -0. -1. -0. -0.]\n",
      " [-0. -0. -0. -0. -1. -0.]\n",
      " [-0. -0. -0. -0. -0. -1.]]\n",
      "[ 1.  1.  1.  1.  1.  1. -0. -0. -0. -0. -0. -0.]\n"
     ]
    }
   ],
   "source": [
    "x_min = 0 * np.ones(6)\n",
    "x_max = 1 * np.ones(6)\n",
    "G2 = np.vstack([+np.eye(6),-np.eye(6)])\n",
    "h2 = np.hstack([x_max, -x_min])\n",
    "print(G2)\n",
    "print(h2)"
   ]
  },
  {
   "cell_type": "code",
   "execution_count": 199,
   "metadata": {},
   "outputs": [],
   "source": [
    "G2 = cvxopt.matrix(G2,tc='d')\n",
    "h2 = cvxopt.matrix(h2.T,tc='d')"
   ]
  },
  {
   "cell_type": "code",
   "execution_count": 200,
   "metadata": {},
   "outputs": [
    {
     "name": "stdout",
     "output_type": "stream",
     "text": [
      "[-1.00e+00 -0.00e+00 -0.00e+00 -0.00e+00 -0.00e+00 -0.00e+00]\n",
      "[-0.00e+00 -1.00e+00 -0.00e+00 -0.00e+00 -0.00e+00 -0.00e+00]\n",
      "[-0.00e+00 -0.00e+00 -1.00e+00 -0.00e+00 -0.00e+00 -0.00e+00]\n",
      "[-0.00e+00 -0.00e+00 -0.00e+00 -1.00e+00 -0.00e+00 -0.00e+00]\n",
      "[-0.00e+00 -0.00e+00 -0.00e+00 -0.00e+00 -1.00e+00 -0.00e+00]\n",
      "[-0.00e+00 -0.00e+00 -0.00e+00 -0.00e+00 -0.00e+00 -1.00e+00]\n",
      "\n",
      "[ 0.00e+00]\n",
      "[ 0.00e+00]\n",
      "[ 0.00e+00]\n",
      "[ 0.00e+00]\n",
      "[ 0.00e+00]\n",
      "[ 0.00e+00]\n",
      "\n"
     ]
    }
   ],
   "source": [
    "G3 = np.eye(6)\n",
    "h3 = 0*np.ones(6)\n",
    "G3 = cvxopt.matrix(-G3,tc='d')\n",
    "h3 = cvxopt.matrix(h3.T,tc='d')\n",
    "print(G3)\n",
    "print(h3)"
   ]
  },
  {
   "cell_type": "code",
   "execution_count": 449,
   "metadata": {},
   "outputs": [
    {
     "data": {
      "text/plain": [
       "array([[0.16194797, 0.09540236, 0.97492687, 0.58574337, 0.40528421,\n",
       "        0.94477274, 0.5       ]])"
      ]
     },
     "execution_count": 449,
     "metadata": {},
     "output_type": "execute_result"
    }
   ],
   "source": [
    "np.hstack([np.random.rand(1,6),np.array([[0.5]])])"
   ]
  },
  {
   "cell_type": "code",
   "execution_count": 15,
   "metadata": {},
   "outputs": [
    {
     "name": "stdout",
     "output_type": "stream",
     "text": [
      "[[1.]\n",
      " [0.]\n",
      " [1.]\n",
      " [0.]\n",
      " [1.]\n",
      " [0.]]\n",
      "[1 3 5]\n"
     ]
    }
   ],
   "source": [
    "x = np.array(x)\n",
    "print(x)\n",
    "b = np.where(x == 1)[0]+1\n",
    "print(b)"
   ]
  },
  {
   "cell_type": "code",
   "execution_count": 74,
   "metadata": {},
   "outputs": [],
   "source": [
    "os.chdir('/Users/steve/Documents/CMC/TransportationNetworks-master/TransportationNetworks-master/')\n",
    "table_paths = ['SiouxFalls/SiouxFalls_network.xlsx', \n",
    "               'Anaheim/Anaheim_network.xlsx', \n",
    "               'Barcelona/Barcelona_network.xlsx', \n",
    "               'Chicago-Sketch/Chicago_Sketch_network.xlsx']\n",
    "\n",
    "raw_map_data = pd.read_excel(table_paths[0])"
   ]
  },
  {
   "cell_type": "code",
   "execution_count": 75,
   "metadata": {},
   "outputs": [
    {
     "name": "stdout",
     "output_type": "stream",
     "text": [
      "    From  To        Volume       Cost\n",
      "0      1   2   4494.657646   6.000816\n",
      "1      1   3   8119.079948   4.008691\n",
      "2      2   1   4519.079948   6.000834\n",
      "3      2   6   5967.336396   6.573598\n",
      "4      3   1   8094.657646   4.008587\n",
      "..   ...  ..           ...        ...\n",
      "71    23  22   9626.210200  12.243138\n",
      "72    23  24   7902.983927   3.759304\n",
      "73    24  13  11112.394731  17.617021\n",
      "74    24  21  10259.524716  11.752579\n",
      "75    24  23   7861.833244   3.722947\n",
      "\n",
      "[76 rows x 4 columns]\n"
     ]
    }
   ],
   "source": [
    "print(raw_map_data)"
   ]
  },
  {
   "cell_type": "code",
   "execution_count": 100,
   "metadata": {},
   "outputs": [
    {
     "name": "stdout",
     "output_type": "stream",
     "text": [
      "24\n",
      "76\n"
     ]
    }
   ],
   "source": [
    "origins = raw_map_data['From']\n",
    "destinations = raw_map_data['To']\n",
    "print(origins[75])\n",
    "test = np.array(raw_map_data['Cost']).reshape(-1,1)\n",
    "print(np.size(test))"
   ]
  },
  {
   "cell_type": "code",
   "execution_count": 134,
   "metadata": {},
   "outputs": [],
   "source": [
    "def extract_map(raw_map_data):\n",
    "    origins = raw_map_data['From']\n",
    "    destinations = raw_map_data['To']\n",
    "    n_node = max(origins.max(), destinations.max())\n",
    "    n_link = raw_map_data.shape[0]\n",
    "    \n",
    "    A = np.zeros((n_node,n_link))\n",
    "    for i in range(n_link):\n",
    "        A[origins[i]-1,i] = 1\n",
    "        A[destinations[i]-1,i] = -1\n",
    "        \n",
    "    A_idx = np.arange(1,n_link+1)\n",
    "    \n",
    "    mu = np.array(raw_map_data['Cost']).reshape(-1,1)\n",
    "        \n",
    "    return A, A_idx, mu"
   ]
  },
  {
   "cell_type": "code",
   "execution_count": 135,
   "metadata": {},
   "outputs": [],
   "source": [
    "def generate_cov(mu, nu):\n",
    "    n_link = np.size(mu)\n",
    "    \n",
    "    sigma = nu*mu*np.random.rand(n_link,1)\n",
    "    \n",
    "    n_sample = n_link\n",
    "    samples = np.zeros((n_link,n_sample))\n",
    "    \n",
    "    for i in range(np.shape(samples)[0]):\n",
    "        for j in range (np.shape(samples)[1]):\n",
    "            while samples[i][j] <= 0:\n",
    "                samples[i][j] = np.random.normal(mu[i],sigma[i])\n",
    "    \n",
    "    cov = np.cov(samples)\n",
    "    \n",
    "    return cov"
   ]
  },
  {
   "cell_type": "code",
   "execution_count": 137,
   "metadata": {},
   "outputs": [
    {
     "name": "stdout",
     "output_type": "stream",
     "text": [
      "[[ 1.04592371e-02  2.59039361e-03 -4.61843822e-04 ...  3.10235276e-02\n",
      "   1.29821363e-02  4.21593423e-03]\n",
      " [ 2.59039361e-03  8.91645844e-02  2.52284892e-03 ... -5.16778211e-02\n",
      "   1.08429885e-02  8.91008013e-03]\n",
      " [-4.61843822e-04  2.52284892e-03  9.31449835e-03 ... -1.78285669e-02\n",
      "   9.37319377e-03 -6.21866729e-03]\n",
      " ...\n",
      " [ 3.10235276e-02 -5.16778211e-02 -1.78285669e-02 ...  6.51897146e+00\n",
      "  -2.71924699e-01 -7.09758899e-02]\n",
      " [ 1.29821363e-02  1.08429885e-02  9.37319377e-03 ... -2.71924699e-01\n",
      "   3.73372469e-01 -1.41911799e-02]\n",
      " [ 4.21593423e-03  8.91008013e-03 -6.21866729e-03 ... -7.09758899e-02\n",
      "  -1.41911799e-02  3.64989324e-01]]\n"
     ]
    }
   ],
   "source": [
    "A, _, mu = extract_map(raw_map_data)\n",
    "cov = generate_cov(mu,0.15)\n",
    "# print(np.hstack((mu,sigma)))\n",
    "print(cov)"
   ]
  },
  {
   "cell_type": "code",
   "execution_count": 119,
   "metadata": {},
   "outputs": [
    {
     "name": "stdout",
     "output_type": "stream",
     "text": [
      "[[1 3]\n",
      " [2 1]\n",
      " [3 1]]\n",
      "[[ 2.  -1.  -2. ]\n",
      " [-1.   0.5  1. ]\n",
      " [-2.   1.   2. ]]\n"
     ]
    }
   ],
   "source": [
    "def generate_cov_log(mu, nu):\n",
    "    n_link = np.size(mu)\n",
    "    \n",
    "    sigma = nu*mu*np.random.rand(n_link,1)\n",
    "    \n",
    "    n_sample = n_link\n",
    "    samples = np.zeros((n_link,n_sample))\n",
    "    \n",
    "    for i in range(np.shape(samples)[0]):\n",
    "        for j in range (np.shape(samples)[1]):\n",
    "            while samples[i][j] <= 0:\n",
    "                samples[i][j] = np.random.normal(mu[i],sigma[i])\n",
    "    \n",
    "    cov = np.cov(samples)\n",
    "    \n",
    "    return cov"
   ]
  },
  {
   "cell_type": "code",
   "execution_count": 143,
   "metadata": {},
   "outputs": [
    {
     "data": {
      "text/plain": [
       "float"
      ]
     },
     "execution_count": 143,
     "metadata": {},
     "output_type": "execute_result"
    }
   ],
   "source": [
    "a=float(\"inf\")/100\n",
    "type(a)"
   ]
  },
  {
   "cell_type": "code",
   "execution_count": null,
   "metadata": {},
   "outputs": [],
   "source": []
  }
 ],
 "metadata": {
  "kernelspec": {
   "display_name": "Python 3",
   "language": "python",
   "name": "python3"
  },
  "language_info": {
   "codemirror_mode": {
    "name": "ipython",
    "version": 3
   },
   "file_extension": ".py",
   "mimetype": "text/x-python",
   "name": "python",
   "nbconvert_exporter": "python",
   "pygments_lexer": "ipython3",
   "version": "3.7.7"
  }
 },
 "nbformat": 4,
 "nbformat_minor": 4
}
