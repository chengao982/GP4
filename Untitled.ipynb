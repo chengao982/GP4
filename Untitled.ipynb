{
 "cells": [
  {
   "cell_type": "code",
   "execution_count": 32,
   "metadata": {},
   "outputs": [],
   "source": [
    "import cvxopt\n",
    "from cvxopt.glpk import ilp\n",
    "import numpy as np\n",
    "import time"
   ]
  },
  {
   "cell_type": "code",
   "execution_count": 591,
   "metadata": {},
   "outputs": [],
   "source": [
    "A = cvxopt.matrix([[1,2,3],[4,5,6]]).T"
   ]
  },
  {
   "cell_type": "code",
   "execution_count": 592,
   "metadata": {},
   "outputs": [
    {
     "name": "stdout",
     "output_type": "stream",
     "text": [
      "[ 1  2  3]\n",
      "[ 4  5  6]\n",
      "\n"
     ]
    }
   ],
   "source": [
    "print(A)"
   ]
  },
  {
   "cell_type": "code",
   "execution_count": 593,
   "metadata": {},
   "outputs": [],
   "source": [
    "B = np.array(A)"
   ]
  },
  {
   "cell_type": "code",
   "execution_count": 594,
   "metadata": {},
   "outputs": [
    {
     "name": "stdout",
     "output_type": "stream",
     "text": [
      "[[1 2 3]\n",
      " [4 5 6]]\n"
     ]
    }
   ],
   "source": [
    "print(B)"
   ]
  },
  {
   "cell_type": "code",
   "execution_count": 7,
   "metadata": {},
   "outputs": [],
   "source": [
    "C = cvxopt.matrix(B)"
   ]
  },
  {
   "cell_type": "code",
   "execution_count": 8,
   "metadata": {},
   "outputs": [
    {
     "name": "stdout",
     "output_type": "stream",
     "text": [
      "[ 1  4]\n",
      "[ 2  5]\n",
      "[ 3  6]\n",
      "\n"
     ]
    }
   ],
   "source": [
    "print(C)"
   ]
  },
  {
   "cell_type": "code",
   "execution_count": 10,
   "metadata": {},
   "outputs": [
    {
     "name": "stdout",
     "output_type": "stream",
     "text": [
      "[[1 2 3]\n",
      " [6 7 8]]\n"
     ]
    }
   ],
   "source": [
    "D = np.array([[1,2,3],[6,7,8]])\n",
    "print(D)"
   ]
  },
  {
   "cell_type": "code",
   "execution_count": 16,
   "metadata": {},
   "outputs": [
    {
     "name": "stdout",
     "output_type": "stream",
     "text": [
      "[ 1  2  3]\n",
      "[ 6  7  8]\n",
      "\n"
     ]
    }
   ],
   "source": [
    "E = cvxopt.matrix(D,tc='i')\n",
    "print(E)"
   ]
  },
  {
   "cell_type": "code",
   "execution_count": 21,
   "metadata": {},
   "outputs": [
    {
     "name": "stdout",
     "output_type": "stream",
     "text": [
      "Help on function lp in module cvxopt.coneprog:\n",
      "\n",
      "lp(c, G, h, A=None, b=None, kktsolver=None, solver=None, primalstart=None, dualstart=None, **kwargs)\n",
      "    Solves a pair of primal and dual LPs\n",
      "    \n",
      "        minimize    c'*x\n",
      "        subject to  G*x + s = h\n",
      "                    A*x = b\n",
      "                    s >= 0\n",
      "    \n",
      "        maximize    -h'*z - b'*y\n",
      "        subject to  G'*z + A'*y + c = 0\n",
      "                    z >= 0.\n",
      "    \n",
      "    \n",
      "    Input arguments.\n",
      "    \n",
      "        c is n x 1, G is m x n, h is m x 1, A is p x n, b is p x 1.  G and\n",
      "        A must be dense or sparse 'd' matrices.  c, h and b are dense 'd'\n",
      "        matrices with one column.  The default values for A and b are\n",
      "        empty matrices with zero rows.\n",
      "    \n",
      "        solver is None, 'glpk' or 'mosek'.  The default solver (None)\n",
      "        uses the cvxopt conelp() function.  The 'glpk' solver is the\n",
      "        simplex LP solver from GLPK.  The 'mosek' solver is the LP solver\n",
      "        from MOSEK.\n",
      "    \n",
      "        The arguments primalstart and dualstart are ignored when solver\n",
      "        is 'glpk' or 'mosek', and are optional when solver is None.\n",
      "        The argument primalstart is a dictionary with keys 'x' and 's',\n",
      "        and specifies a primal starting point.  primalstart['x'] must\n",
      "        be a dense 'd' matrix of length n;  primalstart['s'] must be a\n",
      "        positive dense 'd' matrix of length m.\n",
      "        The argument dualstart is a dictionary with keys 'z' and 'y',\n",
      "        and specifies a dual starting point.   dualstart['y'] must\n",
      "        be a dense 'd' matrix of length p;  dualstart['z'] must be a\n",
      "        positive dense 'd' matrix of length m.\n",
      "    \n",
      "        When solver is None, we require n >= 1, Rank(A) = p and\n",
      "        Rank([G; A]) = n\n",
      "    \n",
      "    \n",
      "    Output arguments.\n",
      "    \n",
      "        Returns a dictionary with keys 'status', 'x', 's', 'z', 'y',\n",
      "        'primal objective', 'dual objective', 'gap', 'relative gap',\n",
      "        'primal infeasibility', 'dual infeasibility', 'primal slack',\n",
      "        'dual slack', 'residual as primal infeasibility certificate',\n",
      "        'residual as dual infeasibility certificate'.\n",
      "    \n",
      "        The 'status' field has values 'optimal', 'primal infeasible',\n",
      "        'dual infeasible', or 'unknown'.  The values of the other fields\n",
      "        depend on the exit status and the solver used.\n",
      "    \n",
      "        Status 'optimal'.\n",
      "        - 'x', 's', 'y', 'z' are an approximate solution of the primal and\n",
      "          dual optimality conditions\n",
      "    \n",
      "              G*x + s = h,  A*x = b\n",
      "              G'*z + A'*y + c = 0\n",
      "              s >= 0, z >= 0\n",
      "              s'*z = 0.\n",
      "    \n",
      "        - 'primal objective': the primal objective c'*x.\n",
      "        - 'dual objective': the dual objective -h'*z - b'*y.\n",
      "        - 'gap': the duality gap s'*z.\n",
      "        - 'relative gap': the relative gap, defined as s'*z / -c'*x if\n",
      "          the primal objective is negative, s'*z / -(h'*z + b'*y) if the\n",
      "          dual objective is positive, and None otherwise.\n",
      "        - 'primal infeasibility': the residual in the primal constraints,\n",
      "          defined as the maximum of the residual in the inequalities\n",
      "    \n",
      "              || G*x + s + h || / max(1, ||h||)\n",
      "    \n",
      "          and the residual in the equalities\n",
      "    \n",
      "              || A*x - b || / max(1, ||b||).\n",
      "    \n",
      "        - 'dual infeasibility': the residual in the dual constraints,\n",
      "          defined as\n",
      "    \n",
      "              || G'*z + A'*y + c || / max(1, ||c||).\n",
      "    \n",
      "        - 'primal slack': the smallest primal slack min_k s_k.\n",
      "        - 'dual slack': the smallest dual slack min_k z_k.\n",
      "        - 'residual as primal infeasibility certificate': None.\n",
      "        - 'residual as dual infeasibility certificate': None.\n",
      "        If the default solver is used, the primal infeasibility is\n",
      "        guaranteed to be less than solvers.options['feastol']\n",
      "        (default 1e-7).  The dual infeasibility is guaranteed to be less\n",
      "        than solvers.options['feastol'] (default 1e-7).  The gap is less\n",
      "        than solvers.options['abstol'] (default 1e-7) or the relative gap\n",
      "        is less than solvers.options['reltol'] (default 1e-6).\n",
      "        For the other solvers, the default GLPK or MOSEK exit criteria\n",
      "        apply.\n",
      "    \n",
      "        Status 'primal infeasible'.  If the GLPK solver is used, all the\n",
      "        fields except the status field are None.  For the default and\n",
      "        the MOSEK solvers, the values are as follows.\n",
      "        - 'x', 's': None.\n",
      "        - 'y', 'z' are an approximate certificate of infeasibility\n",
      "    \n",
      "              -h'*z - b'*y = 1,  G'*z + A'*y = 0,  z >= 0.\n",
      "    \n",
      "        - 'primal objective': None.\n",
      "        - 'dual objective': 1.0.\n",
      "        - 'gap', 'relative gap': None.\n",
      "        - 'primal infeasibility' and 'dual infeasibility': None.\n",
      "        - 'primal slack': None.\n",
      "        - 'dual slack': the smallest dual slack min z_k.\n",
      "        - 'residual as primal infeasibility certificate': the residual in\n",
      "          the condition of the infeasibility certificate, defined as\n",
      "    \n",
      "              || G'*z + A'*y || / max(1, ||c||).\n",
      "    \n",
      "        - 'residual as dual infeasibility certificate': None.\n",
      "        If the default solver is used, the residual as primal infeasiblity\n",
      "        certificate is guaranteed to be less than\n",
      "        solvers.options['feastol'] (default 1e-7).  For the other\n",
      "        solvers, the default GLPK or MOSEK exit criteria apply.\n",
      "    \n",
      "        Status 'dual infeasible'.  If the GLPK solver is used, all the\n",
      "        fields except the status field are empty.  For the default and the\n",
      "        MOSEK solvers, the values are as follows.\n",
      "        - 'x', 's' are an approximate proof of dual infeasibility\n",
      "    \n",
      "              c'*x = -1,  G*x + s = 0,  A*x = 0,  s >= 0.\n",
      "    \n",
      "        - 'y', 'z': None.\n",
      "        - 'primal objective': -1.0.\n",
      "        - 'dual objective': None.\n",
      "        - 'gap', 'relative gap': None.\n",
      "        - 'primal infeasibility' and 'dual infeasibility': None.\n",
      "        - 'primal slack': the smallest primal slack min_k s_k .\n",
      "        - 'dual slack': None.\n",
      "        - 'residual as primal infeasibility certificate': None.\n",
      "        - 'residual as dual infeasibility certificate: the residual in\n",
      "          the conditions of the infeasibility certificate, defined as\n",
      "          the maximum of\n",
      "    \n",
      "              || G*x + s || / max(1, ||h||) and || A*x || / max(1, ||b||).\n",
      "    \n",
      "        If the default solver is used, the residual as dual infeasiblity\n",
      "        certificate is guaranteed to be less than\n",
      "        solvers.options['feastol'] (default 1e-7).  For the other\n",
      "        solvers, the default GLPK or MOSEK exit criteria apply.\n",
      "    \n",
      "        Status 'unknown'.  If the GLPK or MOSEK solver is used, all the\n",
      "        fields except the status field are None.  If the default solver\n",
      "        is used, the values are as follows.\n",
      "        - 'x', 'y', 's', 'z' are the last iterates before termination.\n",
      "          These satisfy s > 0 and z > 0, but are not necessarily feasible.\n",
      "        - 'primal objective': the primal cost c'*x.\n",
      "        - 'dual objective': the dual cost -h'*z - b'*y.\n",
      "        - 'gap': the duality gap s'*z.\n",
      "        - 'relative gap': the relative gap, defined as s'*z / -c'*x if the\n",
      "          primal cost is negative, s'*z / -(h'*z + b'*y) if the dual cost\n",
      "          is positive, and None otherwise.\n",
      "        - 'primal infeasibility ': the residual in the primal constraints,\n",
      "          defined as the maximum of the residual in the inequalities\n",
      "    \n",
      "              || G*x + s + h || / max(1, ||h||)\n",
      "    \n",
      "          and the residual in the equalities\n",
      "    \n",
      "              || A*x - b || / max(1, ||b||).\n",
      "    \n",
      "        - 'dual infeasibility': the residual in the dual constraints,\n",
      "          defined as\n",
      "    \n",
      "              || G'*z + A'*y + c || / max(1, ||c||).\n",
      "    \n",
      "        - 'primal slack': the smallest primal slack min_k s_k.\n",
      "        - 'dual slack': the smallest dual slack min_k z_k.\n",
      "        - 'residual as primal infeasibility certificate':\n",
      "           None if h'*z + b'*y >= 0; the residual\n",
      "    \n",
      "              || G'*z + A'*y || / (-(h'*z + b'*y) * max(1, ||c||) )\n",
      "    \n",
      "          otherwise.\n",
      "        - 'residual as dual infeasibility certificate':\n",
      "          None if c'*x >= 0; the maximum of the residuals\n",
      "    \n",
      "              || G*x + s || / (-c'*x * max(1, ||h||))\n",
      "    \n",
      "          and\n",
      "    \n",
      "              || A*x || / (-c'*x * max(1, ||b||))\n",
      "    \n",
      "          otherwise.\n",
      "        Termination with status 'unknown' indicates that the algorithm\n",
      "        failed to find a solution that satisfies the specified tolerances.\n",
      "        In some cases, the returned solution may be fairly accurate.  If\n",
      "        the primal and dual infeasibilities, the gap, and the relative gap\n",
      "        are small, then x, y, s, z are close to optimal.  If the residual\n",
      "        as primal infeasibility certificate is small, then\n",
      "    \n",
      "            y / (-h'*z - b'*y),   z / (-h'*z - b'*y)\n",
      "    \n",
      "        provide an approximate certificate of primal infeasibility.  If\n",
      "        the residual as certificate of dual infeasibility is small, then\n",
      "    \n",
      "            x / (-c'*x),   s / (-c'*x)\n",
      "    \n",
      "        provide an approximate proof of dual infeasibility.\n",
      "    \n",
      "    \n",
      "    Control parameters.\n",
      "    \n",
      "        The control parameters for the different solvers can be modified\n",
      "        by adding an entry to the dictionary cvxopt.solvers.options.  The\n",
      "        following parameters control the execution of the default solver.\n",
      "    \n",
      "            options['show_progress'] True/False (default: True)\n",
      "            options['maxiters'] positive integer (default: 100)\n",
      "            options['refinement']  positive integer (default: 0)\n",
      "            options['abstol'] scalar (default: 1e-7)\n",
      "            options['reltol'] scalar (default: 1e-6)\n",
      "            options['feastol'] scalar (default: 1e-7).\n",
      "    \n",
      "        The control parameter names for GLPK are strings with the name of\n",
      "        the GLPK parameter, listed in the GLPK documentation.  The MOSEK\n",
      "        parameters can me modified by adding an entry options['mosek'],\n",
      "        containing a dictionary with MOSEK parameter/value pairs, as\n",
      "        described in the MOSEK documentation.\n",
      "    \n",
      "        Options that are not recognized are replaced by their default\n",
      "        values.\n",
      "\n"
     ]
    }
   ],
   "source": [
    "help(cvxopt.solvers.lp)"
   ]
  },
  {
   "cell_type": "code",
   "execution_count": 2,
   "metadata": {},
   "outputs": [],
   "source": [
    "def Generate_A(n):\n",
    "    A = np.zeros((n+2,2*n+2))\n",
    "    A[0,0] = 1\n",
    "    A[1,0] = -1\n",
    "    A[0,2*n+1] = 1\n",
    "    A[n+1,2*n+1] = -1\n",
    "    for i in range(0,n):\n",
    "        A[i+1,2*i+1] = 1;\n",
    "        A[i+1,2*i+2] = 1;\n",
    "        A[i+2,2*i+1] = -1;\n",
    "        A[i+2,2*i+2] = -1;\n",
    "    return A"
   ]
  },
  {
   "cell_type": "code",
   "execution_count": 637,
   "metadata": {},
   "outputs": [
    {
     "name": "stdout",
     "output_type": "stream",
     "text": [
      "[ 1.00e+00  0.00e+00  0.00e+00  0.00e+00  0.00e+00  1.00e+00]\n",
      "[-1.00e+00  1.00e+00  1.00e+00  0.00e+00  0.00e+00  0.00e+00]\n",
      "[ 0.00e+00 -1.00e+00 -1.00e+00  1.00e+00  1.00e+00  0.00e+00]\n",
      "[ 0.00e+00  0.00e+00  0.00e+00 -1.00e+00 -1.00e+00 -1.00e+00]\n",
      "\n",
      "[ 1.00e+00]\n",
      "[ 0.00e+00]\n",
      "[ 0.00e+00]\n",
      "[-1.00e+00]\n",
      "\n",
      "[ 1.00e+00]\n",
      "[ 0.00e+00]\n",
      "[ 1.00e+00]\n",
      "[ 0.00e+00]\n",
      "[ 1.00e+00]\n",
      "[ 0.00e+00]\n",
      "\n"
     ]
    }
   ],
   "source": [
    "A = cvxopt.matrix(Generate_A(2),tc='d')\n",
    "print(A)\n",
    "b = cvxopt.matrix(np.array([[1,0,0,-1]]).T,tc='d')\n",
    "print(b)\n",
    "G = cvxopt.matrix(0.0,(1,6))\n",
    "h = cvxopt.matrix(0.0,(1,1))\n",
    "mu = cvxopt.matrix(np.array([[10,10,10,10,10,31]]).T,tc='d')\n",
    "_,x = cvxopt.glpk.ilp(mu,G,h,A,b,B=set(range(6)))\n",
    "print(x)"
   ]
  },
  {
   "cell_type": "code",
   "execution_count": 647,
   "metadata": {},
   "outputs": [
    {
     "name": "stdout",
     "output_type": "stream",
     "text": [
      "0.01715599999999995\n"
     ]
    }
   ],
   "source": [
    "start = time.process_time()\n",
    "for i in range(0,100):\n",
    "    mu = cvxopt.matrix(np.hstack([np.random.rand(1,5),np.array([[1.3]])]).T,tc='d')\n",
    "    _,x = cvxopt.glpk.ilp(mu,A,b,B=set(range(6)))\n",
    "end = time.process_time()\n",
    "print(end-start)"
   ]
  },
  {
   "cell_type": "code",
   "execution_count": 648,
   "metadata": {},
   "outputs": [
    {
     "name": "stdout",
     "output_type": "stream",
     "text": [
      "0.014975999999997214\n"
     ]
    }
   ],
   "source": [
    "start = time.process_time()\n",
    "for i in range(0,100):\n",
    "    mu = cvxopt.matrix(np.hstack([np.random.rand(1,5),np.array([[1.3]])]).T,tc='d')\n",
    "    _,x = cvxopt.glpk.ilp(mu,G3,h3,A,b)\n",
    "end = time.process_time()\n",
    "print(end-start)"
   ]
  },
  {
   "cell_type": "code",
   "execution_count": 649,
   "metadata": {},
   "outputs": [
    {
     "name": "stdout",
     "output_type": "stream",
     "text": [
      "0.017176999999996667\n"
     ]
    }
   ],
   "source": [
    "start = time.process_time()\n",
    "for i in range(0,100):\n",
    "    mu = cvxopt.matrix(np.hstack([np.random.rand(1,5),np.array([[1.3]])]).T,tc='d')\n",
    "    _,x = cvxopt.glpk.ilp(mu,G2,h2,A,b)\n",
    "end = time.process_time()\n",
    "print(end-start)"
   ]
  },
  {
   "cell_type": "code",
   "execution_count": 650,
   "metadata": {},
   "outputs": [
    {
     "name": "stdout",
     "output_type": "stream",
     "text": [
      "0.015827999999999065\n"
     ]
    }
   ],
   "source": [
    "start = time.process_time()\n",
    "for i in range(0,100):\n",
    "    mu = cvxopt.matrix(np.hstack([np.random.rand(1,5),np.array([[1.3]])]).T,tc='d')\n",
    "    sol = cvxopt.solvers.lp(mu,G3,h3,A,b,solver='glpk')\n",
    "end = time.process_time()\n",
    "print(end-start)"
   ]
  },
  {
   "cell_type": "code",
   "execution_count": null,
   "metadata": {},
   "outputs": [],
   "source": [
    "def cvxopt_solve_minmax(n, a, B, x_min=-42, x_max=42, solver=None):\n",
    "    c = hstack([zeros(n), [1]])\n",
    "\n",
    "    # cvxopt constraint format: G * x <= h\n",
    "    # first,  a + B * x[0:n] <= x[n]\n",
    "    G1 = zeros((n, n + 1))\n",
    "    G1[0:n, 0:n] = B\n",
    "    G1[:, n] = -ones(n)\n",
    "    h1 = -a\n",
    "\n",
    "    # then, x_min <= x <= x_max\n",
    "    x_min = x_min * ones(n)\n",
    "    x_max = x_max * ones(n)\n",
    "    G2 = vstack([\n",
    "        hstack([+eye(n), zeros((n, 1))]),\n",
    "        hstack([-eye(n), zeros((n, 1))])])\n",
    "    h2 = hstack([x_max, -x_min])\n",
    "\n",
    "    c = cvxopt.matrix(c)\n",
    "    G = cvxopt.matrix(vstack([G1, G2]))\n",
    "    h = cvxopt.matrix(hstack([h1, h2]))\n",
    "    sol = cvxopt.solvers.lp(c, G, h, solver=solver)\n",
    "    return array(sol['x']).reshape((n + 1,))"
   ]
  },
  {
   "cell_type": "code",
   "execution_count": 182,
   "metadata": {},
   "outputs": [
    {
     "name": "stdout",
     "output_type": "stream",
     "text": [
      "[[ 1.  0.  0.  0.  0.  0.]\n",
      " [ 0.  1.  0.  0.  0.  0.]\n",
      " [ 0.  0.  1.  0.  0.  0.]\n",
      " [ 0.  0.  0.  1.  0.  0.]\n",
      " [ 0.  0.  0.  0.  1.  0.]\n",
      " [ 0.  0.  0.  0.  0.  1.]\n",
      " [-1. -0. -0. -0. -0. -0.]\n",
      " [-0. -1. -0. -0. -0. -0.]\n",
      " [-0. -0. -1. -0. -0. -0.]\n",
      " [-0. -0. -0. -1. -0. -0.]\n",
      " [-0. -0. -0. -0. -1. -0.]\n",
      " [-0. -0. -0. -0. -0. -1.]]\n",
      "[ 1.  1.  1.  1.  1.  1. -0. -0. -0. -0. -0. -0.]\n"
     ]
    }
   ],
   "source": [
    "x_min = 0 * np.ones(6)\n",
    "x_max = 1 * np.ones(6)\n",
    "G2 = np.vstack([+np.eye(6),-np.eye(6)])\n",
    "h2 = np.hstack([x_max, -x_min])\n",
    "print(G2)\n",
    "print(h2)"
   ]
  },
  {
   "cell_type": "code",
   "execution_count": 183,
   "metadata": {},
   "outputs": [],
   "source": [
    "G2 = cvxopt.matrix(G2,tc='d')\n",
    "h2 = cvxopt.matrix(h2.T,tc='d')"
   ]
  },
  {
   "cell_type": "code",
   "execution_count": 294,
   "metadata": {},
   "outputs": [
    {
     "name": "stdout",
     "output_type": "stream",
     "text": [
      "[-1.00e+00 -0.00e+00 -0.00e+00 -0.00e+00 -0.00e+00 -0.00e+00]\n",
      "[-0.00e+00 -1.00e+00 -0.00e+00 -0.00e+00 -0.00e+00 -0.00e+00]\n",
      "[-0.00e+00 -0.00e+00 -1.00e+00 -0.00e+00 -0.00e+00 -0.00e+00]\n",
      "[-0.00e+00 -0.00e+00 -0.00e+00 -1.00e+00 -0.00e+00 -0.00e+00]\n",
      "[-0.00e+00 -0.00e+00 -0.00e+00 -0.00e+00 -1.00e+00 -0.00e+00]\n",
      "[-0.00e+00 -0.00e+00 -0.00e+00 -0.00e+00 -0.00e+00 -1.00e+00]\n",
      "\n",
      "[ 0.00e+00]\n",
      "[ 0.00e+00]\n",
      "[ 0.00e+00]\n",
      "[ 0.00e+00]\n",
      "[ 0.00e+00]\n",
      "[ 0.00e+00]\n",
      "\n"
     ]
    }
   ],
   "source": [
    "G3 = np.eye(6)\n",
    "h3 = 0*np.ones(6)\n",
    "G3 = cvxopt.matrix(-G3,tc='d')\n",
    "h3 = cvxopt.matrix(h3.T,tc='d')\n",
    "print(G3)\n",
    "print(h3)"
   ]
  },
  {
   "cell_type": "code",
   "execution_count": 449,
   "metadata": {},
   "outputs": [
    {
     "data": {
      "text/plain": [
       "array([[0.16194797, 0.09540236, 0.97492687, 0.58574337, 0.40528421,\n",
       "        0.94477274, 0.5       ]])"
      ]
     },
     "execution_count": 449,
     "metadata": {},
     "output_type": "execute_result"
    }
   ],
   "source": [
    "np.hstack([np.random.rand(1,6),np.array([[0.5]])])"
   ]
  },
  {
   "cell_type": "code",
   "execution_count": 598,
   "metadata": {},
   "outputs": [
    {
     "data": {
      "text/plain": [
       "array([0.90044279, 0.7289655 , 0.47461127])"
      ]
     },
     "execution_count": 598,
     "metadata": {},
     "output_type": "execute_result"
    }
   ],
   "source": [
    "np.random.rand(3)"
   ]
  },
  {
   "cell_type": "code",
   "execution_count": 621,
   "metadata": {},
   "outputs": [
    {
     "name": "stdout",
     "output_type": "stream",
     "text": [
      "[ 0.00e+00]\n",
      "[ 0.00e+00]\n",
      "[ 0.00e+00]\n",
      "[ 0.00e+00]\n",
      "[ 0.00e+00]\n",
      "[ 0.00e+00]\n",
      "\n"
     ]
    }
   ],
   "source": [
    "b = np.zeros(6)\n",
    "b = cvxopt.matrix(b)\n",
    "print(b)"
   ]
  },
  {
   "cell_type": "code",
   "execution_count": 620,
   "metadata": {},
   "outputs": [
    {
     "name": "stdout",
     "output_type": "stream",
     "text": [
      "[[3. 3. 3. 3. 3. 3.]]\n"
     ]
    }
   ],
   "source": [
    "b[0]=3\n",
    "print(b)"
   ]
  },
  {
   "cell_type": "code",
   "execution_count": 608,
   "metadata": {},
   "outputs": [
    {
     "data": {
      "text/plain": [
       "array([[ 1.,  0.,  0.],\n",
       "       [ 0.,  1., -0.],\n",
       "       [ 0., -0.,  1.]])"
      ]
     },
     "execution_count": 608,
     "metadata": {},
     "output_type": "execute_result"
    }
   ],
   "source": [
    "np.matmul(o,o.T)"
   ]
  },
  {
   "cell_type": "code",
   "execution_count": 609,
   "metadata": {},
   "outputs": [],
   "source": [
    "a=[]\n",
    "a.append(G)\n",
    "a.append(G2)\n",
    "a.append(G3)"
   ]
  },
  {
   "cell_type": "code",
   "execution_count": 612,
   "metadata": {},
   "outputs": [
    {
     "name": "stdout",
     "output_type": "stream",
     "text": [
      "[-1.00e+00 -0.00e+00 -0.00e+00 -0.00e+00 -0.00e+00 -0.00e+00]\n",
      "[-0.00e+00 -1.00e+00 -0.00e+00 -0.00e+00 -0.00e+00 -0.00e+00]\n",
      "[-0.00e+00 -0.00e+00 -1.00e+00 -0.00e+00 -0.00e+00 -0.00e+00]\n",
      "[-0.00e+00 -0.00e+00 -0.00e+00 -1.00e+00 -0.00e+00 -0.00e+00]\n",
      "[-0.00e+00 -0.00e+00 -0.00e+00 -0.00e+00 -1.00e+00 -0.00e+00]\n",
      "[-0.00e+00 -0.00e+00 -0.00e+00 -0.00e+00 -0.00e+00 -1.00e+00]\n",
      "\n"
     ]
    }
   ],
   "source": [
    "print(a[2])"
   ]
  },
  {
   "cell_type": "code",
   "execution_count": 651,
   "metadata": {},
   "outputs": [
    {
     "name": "stdout",
     "output_type": "stream",
     "text": [
      "(array([0, 0, 0]), array([1, 2, 4]))\n",
      "1\n",
      "2\n",
      "4\n"
     ]
    }
   ],
   "source": [
    "b=np.array([[0,1,1,0,1]])\n",
    "p=np.where(b==1)\n",
    "print(p)\n",
    "for i in p[1]:\n",
    "    print(i)"
   ]
  },
  {
   "cell_type": "code",
   "execution_count": null,
   "metadata": {},
   "outputs": [],
   "source": []
  }
 ],
 "metadata": {
  "kernelspec": {
   "display_name": "Python 3",
   "language": "python",
   "name": "python3"
  },
  "language_info": {
   "codemirror_mode": {
    "name": "ipython",
    "version": 3
   },
   "file_extension": ".py",
   "mimetype": "text/x-python",
   "name": "python",
   "nbconvert_exporter": "python",
   "pygments_lexer": "ipython3",
   "version": "3.7.7"
  }
 },
 "nbformat": 4,
 "nbformat_minor": 4
}
