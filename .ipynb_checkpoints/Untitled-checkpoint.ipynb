{
 "cells": [
  {
   "cell_type": "code",
   "execution_count": 1,
   "metadata": {},
   "outputs": [],
   "source": [
    "import cvxopt\n",
    "from cvxopt.glpk import ilp\n",
    "import numpy as np\n",
    "import time\n",
    "import math"
   ]
  },
  {
   "cell_type": "code",
   "execution_count": 7,
   "metadata": {},
   "outputs": [],
   "source": [
    "import pandas as pd\n",
    "import os\n",
    "from scipy.stats import ortho_group"
   ]
  },
  {
   "cell_type": "code",
   "execution_count": 194,
   "metadata": {},
   "outputs": [
    {
     "name": "stdout",
     "output_type": "stream",
     "text": [
      "Help on built-in function ilp in module cvxopt.glpk:\n",
      "\n",
      "ilp(...)\n",
      "    Solves a mixed integer linear program using GLPK.\n",
      "    \n",
      "    (status, x) = ilp(c, G, h, A, b, I, B)\n",
      "    \n",
      "    PURPOSE\n",
      "    Solves the mixed integer linear programming problem\n",
      "    \n",
      "        minimize    c'*x\n",
      "        subject to  G*x <= h\n",
      "                    A*x = b\n",
      "                    x[k] is integer for k in I\n",
      "                    x[k] is binary for k in B\n",
      "    \n",
      "    ARGUMENTS\n",
      "    c            nx1 dense 'd' matrix with n>=1\n",
      "    \n",
      "    G            mxn dense or sparse 'd' matrix with m>=1\n",
      "    \n",
      "    h            mx1 dense 'd' matrix\n",
      "    \n",
      "    A            pxn dense or sparse 'd' matrix with p>=0\n",
      "    \n",
      "    b            px1 dense 'd' matrix\n",
      "    \n",
      "    I            set of indices of integer variables\n",
      "    \n",
      "    B            set of indices of binary variables\n",
      "    \n",
      "    status       if status is 'optimal', 'feasible', or 'undefined',\n",
      "                 a value of x is returned and the status string \n",
      "                 gives the status of x.  Other possible values of              status are:  'invalid formulation', \n",
      "                 'infeasible problem', 'LP relaxation is primal \n",
      "                 infeasible', 'LP relaxation is dual infeasible', \n",
      "                 'unknown'.\n",
      "    \n",
      "    x            a (sub-)optimal solution if status is 'optimal', \n",
      "                 'feasible', or 'undefined'.  None otherwise\n",
      "\n"
     ]
    }
   ],
   "source": [
    "help(cvxopt.glpk.ilp)"
   ]
  },
  {
   "cell_type": "code",
   "execution_count": 53,
   "metadata": {},
   "outputs": [],
   "source": [
    "def Generate_A(n):\n",
    "    A = np.zeros((n+2,2*n+2))\n",
    "    A[0,0] = 1\n",
    "    A[1,0] = -1\n",
    "    A[0,2*n+1] = 1\n",
    "    A[n+1,2*n+1] = -1\n",
    "    for i in range(0,n):\n",
    "        A[i+1,2*i+1] = 1;\n",
    "        A[i+1,2*i+2] = 1;\n",
    "        A[i+2,2*i+1] = -1;\n",
    "        A[i+2,2*i+2] = -1;\n",
    "    return A"
   ]
  },
  {
   "cell_type": "code",
   "execution_count": 223,
   "metadata": {},
   "outputs": [
    {
     "name": "stdout",
     "output_type": "stream",
     "text": [
      "[ 1.00e+00  0.00e+00  0.00e+00  0.00e+00  0.00e+00  1.00e+00]\n",
      "[-1.00e+00  1.00e+00  1.00e+00  0.00e+00  0.00e+00  0.00e+00]\n",
      "[ 0.00e+00 -1.00e+00 -1.00e+00  1.00e+00  1.00e+00  0.00e+00]\n",
      "[ 0.00e+00  0.00e+00  0.00e+00 -1.00e+00 -1.00e+00 -1.00e+00]\n",
      "\n",
      "[ 1.00e+00]\n",
      "[ 0.00e+00]\n",
      "[ 0.00e+00]\n",
      "[-1.00e+00]\n",
      "\n",
      "False\n"
     ]
    }
   ],
   "source": [
    "A = cvxopt.matrix(Generate_A(2),tc='d')\n",
    "print(A)\n",
    "b = cvxopt.matrix(np.array([[1,0,0,-1]]).T,tc='d')\n",
    "print(b)\n",
    "G = cvxopt.matrix(0.0,(1,6))\n",
    "h = cvxopt.matrix(0.0,(1,1))\n",
    "mu = cvxopt.matrix(np.array([[10,10,11,11,10,31]]).T,tc='d')\n",
    "_,x = cvxopt.glpk.ilp(mu,G,h,A,b,B=set(range(6)))\n",
    "print(x == None)"
   ]
  },
  {
   "cell_type": "code",
   "execution_count": 217,
   "metadata": {},
   "outputs": [],
   "source": [
    "def cvxopt_glpk_minmax(c, A, b, x_min=0):\n",
    "    dim = np.size(c,0)\n",
    "\n",
    "    x_min = x_min * np.ones(dim)\n",
    "    # x_max = x_max * ones(n)\n",
    "    # G = np.vstack([+np.eye(dim),-np.eye(dim)])\n",
    "    # h = np.hstack([x_max, -x_min])\n",
    "    G = -np.eye(dim)\n",
    "\n",
    "    c = cvxopt.matrix(c,tc='d')\n",
    "    A = cvxopt.matrix(A,tc='d')\n",
    "    b = cvxopt.matrix(b,tc='d')\n",
    "    G = cvxopt.matrix(G,tc='d')\n",
    "    h = cvxopt.matrix(x_min.T,tc='d')\n",
    "    sol = cvxopt.solvers.lp(c, G, h, A, b, solver='glpk',options={'glpk':{'msg_lev':'GLP_MSG_OFF'}})\n",
    "    return np.array(sol['x'])"
   ]
  },
  {
   "cell_type": "code",
   "execution_count": 193,
   "metadata": {},
   "outputs": [
    {
     "name": "stdout",
     "output_type": "stream",
     "text": [
      "<class 'numpy.bool_'>\n"
     ]
    }
   ],
   "source": [
    "x = cvxopt_glpk_minmax(mu,A,b)\n",
    "print(type(x.all()))"
   ]
  },
  {
   "cell_type": "code",
   "execution_count": 230,
   "metadata": {},
   "outputs": [
    {
     "name": "stdout",
     "output_type": "stream",
     "text": [
      "1.1339870000000012\n",
      "[ 1.00e+00]\n",
      "[ 1.00e+00]\n",
      "[ 0.00e+00]\n",
      "[ 0.00e+00]\n",
      "[ 1.00e+00]\n",
      "[ 0.00e+00]\n",
      "\n",
      "[[30.]]\n"
     ]
    }
   ],
   "source": [
    "start = time.process_time()\n",
    "for i in range(0,10000):\n",
    "#     mu = cvxopt.matrix(np.hstack([np.random.rand(1,5),np.array([[1.3]])]).T,tc='d')\n",
    "    _,x = cvxopt.glpk.ilp(mu,A,b,B=set(range(6)))\n",
    "end = time.process_time()\n",
    "print(end-start)\n",
    "print(x)\n",
    "print(np.dot(x.T,mu))"
   ]
  },
  {
   "cell_type": "code",
   "execution_count": 231,
   "metadata": {},
   "outputs": [
    {
     "name": "stdout",
     "output_type": "stream",
     "text": [
      "1.0168749999999989\n",
      "[ 1.00e+00]\n",
      "[ 1.00e+00]\n",
      "[-0.00e+00]\n",
      "[-0.00e+00]\n",
      "[ 1.00e+00]\n",
      "[-0.00e+00]\n",
      "\n",
      "[[30.]]\n"
     ]
    }
   ],
   "source": [
    "start = time.process_time()\n",
    "for i in range(0,10000):\n",
    "#     mu = cvxopt.matrix(np.hstack([np.random.rand(1,5),np.array([[1.3]])]).T,tc='d')\n",
    "    _,x = cvxopt.glpk.ilp(mu,G3,h3,A,b)\n",
    "end = time.process_time()\n",
    "print(end-start)\n",
    "print(x)\n",
    "print(np.dot(x.T,mu))"
   ]
  },
  {
   "cell_type": "code",
   "execution_count": 232,
   "metadata": {},
   "outputs": [
    {
     "name": "stdout",
     "output_type": "stream",
     "text": [
      "1.0229859999999995\n",
      "[ 1.00e+00]\n",
      "[ 1.00e+00]\n",
      "[ 0.00e+00]\n",
      "[ 0.00e+00]\n",
      "[ 1.00e+00]\n",
      "[ 0.00e+00]\n",
      "\n",
      "[[30.]]\n"
     ]
    }
   ],
   "source": [
    "start = time.process_time()\n",
    "for i in range(0,10000):\n",
    "#     mu = cvxopt.matrix(np.hstack([np.random.rand(1,5),np.array([[1.3]])]).T,tc='d')\n",
    "    _,x = cvxopt.glpk.ilp(mu,G2,h2,A,b)\n",
    "end = time.process_time()\n",
    "print(end-start)\n",
    "print(x)\n",
    "print(np.dot(x.T,mu))"
   ]
  },
  {
   "cell_type": "code",
   "execution_count": 233,
   "metadata": {},
   "outputs": [
    {
     "name": "stdout",
     "output_type": "stream",
     "text": [
      "0.830687999999995\n",
      "[[1.]\n",
      " [1.]\n",
      " [0.]\n",
      " [0.]\n",
      " [1.]\n",
      " [0.]]\n",
      "[[30.]]\n"
     ]
    }
   ],
   "source": [
    "start = time.process_time()\n",
    "for i in range(0,10000):\n",
    "#     mu = cvxopt.matrix(np.hstack([np.random.rand(1,5),np.array([[1.3]])]).T,tc='d')\n",
    "    sol = cvxopt.solvers.lp(mu,G3,h3,A,b,solver='glpk')\n",
    "    x = np.array(sol['x'])\n",
    "end = time.process_time()\n",
    "print(end-start)\n",
    "print(x)\n",
    "print(np.dot(x.T,mu))"
   ]
  },
  {
   "cell_type": "code",
   "execution_count": 216,
   "metadata": {},
   "outputs": [],
   "source": [
    "def cvxopt_solve_minmax(n, a, B, x_min=-42, x_max=42, solver=None):\n",
    "    c = hstack([zeros(n), [1]])\n",
    "\n",
    "    # cvxopt constraint format: G * x <= h\n",
    "    # first,  a + B * x[0:n] <= x[n]\n",
    "    G1 = zeros((n, n + 1))\n",
    "    G1[0:n, 0:n] = B\n",
    "    G1[:, n] = -ones(n)\n",
    "    h1 = -a\n",
    "\n",
    "    # then, x_min <= x <= x_max\n",
    "    x_min = x_min * ones(n)\n",
    "    x_max = x_max * ones(n)\n",
    "    G2 = vstack([\n",
    "        hstack([+eye(n), zeros((n, 1))]),\n",
    "        hstack([-eye(n), zeros((n, 1))])])\n",
    "    h2 = hstack([x_max, -x_min])\n",
    "\n",
    "    c = cvxopt.matrix(c)\n",
    "    G = cvxopt.matrix(vstack([G1, G2]))\n",
    "    h = cvxopt.matrix(hstack([h1, h2]))\n",
    "    sol = cvxopt.solvers.lp(c, G, h, solver=solver)\n",
    "    return array(sol['x']).reshape((n + 1,))"
   ]
  },
  {
   "cell_type": "code",
   "execution_count": 198,
   "metadata": {},
   "outputs": [
    {
     "name": "stdout",
     "output_type": "stream",
     "text": [
      "[[ 1.  0.  0.  0.  0.  0.]\n",
      " [ 0.  1.  0.  0.  0.  0.]\n",
      " [ 0.  0.  1.  0.  0.  0.]\n",
      " [ 0.  0.  0.  1.  0.  0.]\n",
      " [ 0.  0.  0.  0.  1.  0.]\n",
      " [ 0.  0.  0.  0.  0.  1.]\n",
      " [-1. -0. -0. -0. -0. -0.]\n",
      " [-0. -1. -0. -0. -0. -0.]\n",
      " [-0. -0. -1. -0. -0. -0.]\n",
      " [-0. -0. -0. -1. -0. -0.]\n",
      " [-0. -0. -0. -0. -1. -0.]\n",
      " [-0. -0. -0. -0. -0. -1.]]\n",
      "[ 1.  1.  1.  1.  1.  1. -0. -0. -0. -0. -0. -0.]\n"
     ]
    }
   ],
   "source": [
    "x_min = 0 * np.ones(6)\n",
    "x_max = 1 * np.ones(6)\n",
    "G2 = np.vstack([+np.eye(6),-np.eye(6)])\n",
    "h2 = np.hstack([x_max, -x_min])\n",
    "print(G2)\n",
    "print(h2)"
   ]
  },
  {
   "cell_type": "code",
   "execution_count": 199,
   "metadata": {},
   "outputs": [],
   "source": [
    "G2 = cvxopt.matrix(G2,tc='d')\n",
    "h2 = cvxopt.matrix(h2.T,tc='d')"
   ]
  },
  {
   "cell_type": "code",
   "execution_count": 200,
   "metadata": {},
   "outputs": [
    {
     "name": "stdout",
     "output_type": "stream",
     "text": [
      "[-1.00e+00 -0.00e+00 -0.00e+00 -0.00e+00 -0.00e+00 -0.00e+00]\n",
      "[-0.00e+00 -1.00e+00 -0.00e+00 -0.00e+00 -0.00e+00 -0.00e+00]\n",
      "[-0.00e+00 -0.00e+00 -1.00e+00 -0.00e+00 -0.00e+00 -0.00e+00]\n",
      "[-0.00e+00 -0.00e+00 -0.00e+00 -1.00e+00 -0.00e+00 -0.00e+00]\n",
      "[-0.00e+00 -0.00e+00 -0.00e+00 -0.00e+00 -1.00e+00 -0.00e+00]\n",
      "[-0.00e+00 -0.00e+00 -0.00e+00 -0.00e+00 -0.00e+00 -1.00e+00]\n",
      "\n",
      "[ 0.00e+00]\n",
      "[ 0.00e+00]\n",
      "[ 0.00e+00]\n",
      "[ 0.00e+00]\n",
      "[ 0.00e+00]\n",
      "[ 0.00e+00]\n",
      "\n"
     ]
    }
   ],
   "source": [
    "G3 = np.eye(6)\n",
    "h3 = 0*np.ones(6)\n",
    "G3 = cvxopt.matrix(-G3,tc='d')\n",
    "h3 = cvxopt.matrix(h3.T,tc='d')\n",
    "print(G3)\n",
    "print(h3)"
   ]
  },
  {
   "cell_type": "code",
   "execution_count": 449,
   "metadata": {},
   "outputs": [
    {
     "data": {
      "text/plain": [
       "array([[0.16194797, 0.09540236, 0.97492687, 0.58574337, 0.40528421,\n",
       "        0.94477274, 0.5       ]])"
      ]
     },
     "execution_count": 449,
     "metadata": {},
     "output_type": "execute_result"
    }
   ],
   "source": [
    "np.hstack([np.random.rand(1,6),np.array([[0.5]])])"
   ]
  },
  {
   "cell_type": "code",
   "execution_count": 15,
   "metadata": {},
   "outputs": [
    {
     "name": "stdout",
     "output_type": "stream",
     "text": [
      "[[1.]\n",
      " [0.]\n",
      " [1.]\n",
      " [0.]\n",
      " [1.]\n",
      " [0.]]\n",
      "[1 3 5]\n"
     ]
    }
   ],
   "source": [
    "x = np.array(x)\n",
    "print(x)\n",
    "b = np.where(x == 1)[0]+1\n",
    "print(b)"
   ]
  },
  {
   "cell_type": "code",
   "execution_count": 128,
   "metadata": {},
   "outputs": [],
   "source": [
    "os.chdir('/Users/steve/Documents/CMC/TransportationNetworks-master/TransportationNetworks-master/')\n",
    "table_paths = ['SiouxFalls/SiouxFalls_network.xlsx', \n",
    "               'Anaheim/Anaheim_network.xlsx', \n",
    "               'Barcelona/Barcelona_network.xlsx', \n",
    "               'Chicago-Sketch/Chicago_Sketch_network.xlsx']\n",
    "\n",
    "raw_map_data = pd.read_excel(table_paths[0])"
   ]
  },
  {
   "cell_type": "code",
   "execution_count": 75,
   "metadata": {},
   "outputs": [
    {
     "name": "stdout",
     "output_type": "stream",
     "text": [
      "    From  To        Volume       Cost\n",
      "0      1   2   4494.657646   6.000816\n",
      "1      1   3   8119.079948   4.008691\n",
      "2      2   1   4519.079948   6.000834\n",
      "3      2   6   5967.336396   6.573598\n",
      "4      3   1   8094.657646   4.008587\n",
      "..   ...  ..           ...        ...\n",
      "71    23  22   9626.210200  12.243138\n",
      "72    23  24   7902.983927   3.759304\n",
      "73    24  13  11112.394731  17.617021\n",
      "74    24  21  10259.524716  11.752579\n",
      "75    24  23   7861.833244   3.722947\n",
      "\n",
      "[76 rows x 4 columns]\n"
     ]
    }
   ],
   "source": [
    "print(raw_map_data)"
   ]
  },
  {
   "cell_type": "code",
   "execution_count": 100,
   "metadata": {},
   "outputs": [
    {
     "name": "stdout",
     "output_type": "stream",
     "text": [
      "24\n",
      "76\n"
     ]
    }
   ],
   "source": [
    "origins = raw_map_data['From']\n",
    "destinations = raw_map_data['To']\n",
    "print(origins[75])\n",
    "test = np.array(raw_map_data['Cost']).reshape(-1,1)\n",
    "print(np.size(test))"
   ]
  },
  {
   "cell_type": "code",
   "execution_count": 9,
   "metadata": {},
   "outputs": [],
   "source": [
    "def extract_map(raw_map_data):\n",
    "    origins = raw_map_data['From']\n",
    "    destinations = raw_map_data['To']\n",
    "    n_node = max(origins.max(), destinations.max())\n",
    "    n_link = raw_map_data.shape[0]\n",
    "    \n",
    "    A = np.zeros((n_node,n_link))\n",
    "    for i in range(n_link):\n",
    "        A[origins[i]-1,i] = 1\n",
    "        A[destinations[i]-1,i] = -1\n",
    "        \n",
    "    A_idx = np.arange(1,n_link+1)\n",
    "    \n",
    "    mu = np.array(raw_map_data['Cost']).reshape(-1,1)\n",
    "        \n",
    "    return A, A_idx, mu"
   ]
  },
  {
   "cell_type": "code",
   "execution_count": 135,
   "metadata": {},
   "outputs": [],
   "source": [
    "def generate_cov(mu, nu):\n",
    "    n_link = np.size(mu)\n",
    "    \n",
    "    sigma = nu*mu*np.random.rand(n_link,1)\n",
    "    \n",
    "    n_sample = n_link\n",
    "    samples = np.zeros((n_link,n_sample))\n",
    "    \n",
    "    for i in range(np.shape(samples)[0]):\n",
    "        for j in range (np.shape(samples)[1]):\n",
    "            while samples[i][j] <= 0:\n",
    "                samples[i][j] = np.random.normal(mu[i],sigma[i])\n",
    "    \n",
    "    cov = np.cov(samples)\n",
    "    \n",
    "    return cov"
   ]
  },
  {
   "cell_type": "code",
   "execution_count": 391,
   "metadata": {},
   "outputs": [],
   "source": [
    "def generate_cov1(mu, nu, factors):\n",
    "    n_link = np.size(mu)\n",
    "        \n",
    "    W = np.random.randn(n_link,factors)\n",
    "    S = np.dot(W,W.T) + np.diag(np.random.rand(1,n_link))\n",
    "    corr = np.matmul(np.matmul(np.diag(1/np.sqrt(np.diag(S))),S),np.diag(1/np.sqrt(np.diag(S))))\n",
    "    \n",
    "    sigma = nu*mu*np.random.rand(n_link,1).reshape(-1,1)\n",
    "    \n",
    "    cov = np.matmul(sigma,sigma.T)*corr\n",
    "    \n",
    "    return cov"
   ]
  },
  {
   "cell_type": "code",
   "execution_count": 392,
   "metadata": {},
   "outputs": [
    {
     "name": "stdout",
     "output_type": "stream",
     "text": [
      "[[ 8.53463655e-01  2.46219784e-03  4.47285700e-01 ... -2.36564907e+00\n",
      "   1.14894297e-02 -1.92461320e-01]\n",
      " [ 2.46219784e-03  5.66396812e-03  2.66450412e-02 ... -3.77761478e-03\n",
      "  -5.65518633e-03  1.28251697e-03]\n",
      " [ 4.47285700e-01  2.66450412e-02  7.55306709e+00 ...  3.15114479e+00\n",
      "  -2.44122911e-01  5.15719976e-01]\n",
      " ...\n",
      " [-2.36564907e+00 -3.77761478e-03  3.15114479e+00 ...  7.71398948e+01\n",
      "   9.27079464e-02  5.10525561e-01]\n",
      " [ 1.14894297e-02 -5.65518633e-03 -2.44122911e-01 ...  9.27079464e-02\n",
      "   3.79138004e-01 -4.22832675e-02]\n",
      " [-1.92461320e-01  1.28251697e-03  5.15719976e-01 ...  5.10525561e-01\n",
      "  -4.22832675e-02  4.40415598e-01]]\n"
     ]
    }
   ],
   "source": [
    "cov1 = generate_cov1(mu,0.5,50)\n",
    "print(cov1)"
   ]
  },
  {
   "cell_type": "code",
   "execution_count": 393,
   "metadata": {},
   "outputs": [
    {
     "name": "stdout",
     "output_type": "stream",
     "text": [
      "[ 1.03454439e+02+0.00000000e+00j  7.49223899e+01+0.00000000e+00j\n",
      "  6.83948700e+01+0.00000000e+00j  5.99629670e+01+0.00000000e+00j\n",
      "  4.96739995e+01+0.00000000e+00j  3.98370055e+01+0.00000000e+00j\n",
      "  3.86354710e+01+0.00000000e+00j  3.43503641e+01+0.00000000e+00j\n",
      "  2.98571315e+01+0.00000000e+00j  2.87348112e+01+0.00000000e+00j\n",
      "  2.35822795e+01+0.00000000e+00j  2.05685270e+01+0.00000000e+00j\n",
      "  1.87895651e+01+0.00000000e+00j  1.66529303e+01+0.00000000e+00j\n",
      "  1.36464106e+01+0.00000000e+00j  1.23770487e+01+0.00000000e+00j\n",
      "  1.25822924e+01+0.00000000e+00j  1.04401247e+01+0.00000000e+00j\n",
      "  1.00195228e+01+0.00000000e+00j  8.49919425e+00+0.00000000e+00j\n",
      "  9.09786714e+00+0.00000000e+00j  7.91987362e+00+0.00000000e+00j\n",
      "  6.71117839e+00+0.00000000e+00j  6.58508366e+00+0.00000000e+00j\n",
      "  5.33836946e+00+0.00000000e+00j  4.73567547e+00+0.00000000e+00j\n",
      "  3.91878548e+00+0.00000000e+00j  3.38642109e+00+0.00000000e+00j\n",
      "  3.22176915e+00+0.00000000e+00j  2.87109602e+00+0.00000000e+00j\n",
      "  2.74379474e+00+0.00000000e+00j  2.38670979e+00+0.00000000e+00j\n",
      "  1.94972604e+00+0.00000000e+00j  1.72109422e+00+0.00000000e+00j\n",
      "  1.42848918e+00+0.00000000e+00j  1.25614157e+00+0.00000000e+00j\n",
      "  1.18073495e+00+0.00000000e+00j  9.39523662e-01+0.00000000e+00j\n",
      "  8.06325495e-01+0.00000000e+00j  7.34715881e-01+0.00000000e+00j\n",
      "  6.25281040e-01+0.00000000e+00j  5.53271531e-01+0.00000000e+00j\n",
      "  5.04457778e-01+0.00000000e+00j  4.63836571e-01+0.00000000e+00j\n",
      "  3.28496988e-01+0.00000000e+00j  3.90363581e-01+0.00000000e+00j\n",
      "  2.56973490e-01+0.00000000e+00j  1.58124457e-01+0.00000000e+00j\n",
      "  1.91152838e-01+0.00000000e+00j  9.23240055e-02+0.00000000e+00j\n",
      "  1.14761212e-01+0.00000000e+00j  2.79551430e-15+0.00000000e+00j\n",
      " -8.82287836e-16+1.69191590e-15j -8.82287836e-16-1.69191590e-15j\n",
      " -1.83413610e-15+0.00000000e+00j -1.75647165e-15+0.00000000e+00j\n",
      " -8.75482888e-16+1.39686533e-15j -8.75482888e-16-1.39686533e-15j\n",
      "  9.54753662e-16+0.00000000e+00j  5.93184493e-16+5.07088194e-16j\n",
      "  5.93184493e-16-5.07088194e-16j -5.35333300e-17+9.57266596e-16j\n",
      " -5.35333300e-17-9.57266596e-16j -7.51070493e-16+3.34036386e-16j\n",
      " -7.51070493e-16-3.34036386e-16j -5.82769648e-17+7.90950800e-16j\n",
      " -5.82769648e-17-7.90950800e-16j -3.55808243e-16+0.00000000e+00j\n",
      "  3.85416406e-16+0.00000000e+00j -2.56086897e-17+3.30128679e-16j\n",
      " -2.56086897e-17-3.30128679e-16j -7.15506589e-17+1.59901261e-16j\n",
      " -7.15506589e-17-1.59901261e-16j  1.77635353e-16+0.00000000e+00j\n",
      "  7.78324246e-17+0.00000000e+00j -2.26250522e-17+0.00000000e+00j]\n"
     ]
    }
   ],
   "source": [
    "B = np.linalg.eigvals(cov1)\n",
    "print(B)"
   ]
  },
  {
   "cell_type": "code",
   "execution_count": 129,
   "metadata": {},
   "outputs": [],
   "source": [
    "A, _, mu = extract_map(raw_map_data)\n",
    "# cov = generate_cov(mu,0.5)\n",
    "# print(cov.shape)"
   ]
  },
  {
   "cell_type": "code",
   "execution_count": 388,
   "metadata": {},
   "outputs": [],
   "source": [
    "cov1 = pd.DataFrame(cov1)\n",
    "os.chdir('/Users/steve/Desktop/')\n",
    "writer = pd.ExcelWriter('test2.xlsx')\n",
    "cov1.to_excel(writer,float_format='%.5f')\n",
    "writer.save()"
   ]
  },
  {
   "cell_type": "code",
   "execution_count": 291,
   "metadata": {},
   "outputs": [],
   "source": [
    "def generate_cov_log(mu_ori, nu):\n",
    "    n_link = np.size(mu_ori)\n",
    "    \n",
    "    sigma = nu*mu_ori*np.random.rand(n_link,1)\n",
    "\n",
    "    sigma_log = np.log(np.divide(sigma**2,mu_ori**2)+1)\n",
    "    mu_log = np.log(mu_ori)-0.5*sigma_log\n",
    "    \n",
    "    n_sample = n_link\n",
    "    samples = np.zeros((n_link,n_sample))\n",
    "    \n",
    "    for i in range(np.shape(samples)[0]):\n",
    "        samples[i] = np.random.lognormal(mu_log[i],np.sqrt(sigma_log[i]),(1,np.shape(samples)[1]))\n",
    "    \n",
    "    cov_ori = np.cov(samples)\n",
    "    \n",
    "    return cov_ori"
   ]
  },
  {
   "cell_type": "code",
   "execution_count": 292,
   "metadata": {},
   "outputs": [
    {
     "name": "stdout",
     "output_type": "stream",
     "text": [
      "[[ 2.64959465e+00 -3.35149862e-02  4.59444407e-01 ...  4.91492780e-01\n",
      "   3.96773336e-02  5.80574070e-01]\n",
      " [-3.35149862e-02  1.17080830e-02 -9.65559996e-02 ... -1.13254482e-01\n",
      "   3.82830619e-05  6.25806268e-02]\n",
      " [ 4.59444407e-01 -9.65559996e-02  1.51119307e+01 ...  6.06404299e+00\n",
      "  -3.95586828e-03 -1.64798774e+00]\n",
      " ...\n",
      " [ 4.91492780e-01 -1.13254482e-01  6.06404299e+00 ...  5.83235132e+01\n",
      "  -1.95179233e-02  4.72797061e-01]\n",
      " [ 3.96773336e-02  3.82830619e-05 -3.95586828e-03 ... -1.95179233e-02\n",
      "   3.71019529e-02 -3.19223015e-02]\n",
      " [ 5.80574070e-01  6.25806268e-02 -1.64798774e+00 ...  4.72797061e-01\n",
      "  -3.19223015e-02  4.44156911e+00]]\n"
     ]
    }
   ],
   "source": [
    "cov = generate_cov_log(mu, 0.5)\n",
    "print(cov)"
   ]
  },
  {
   "cell_type": "code",
   "execution_count": 289,
   "metadata": {},
   "outputs": [],
   "source": [
    "def calc_logGP4_param(mu_ori, cov_ori):\n",
    "    cov_log = np.log(cov_ori/np.dot(mu_ori,mu_ori.T)+1)\n",
    "    mu_log = np.log(mu_ori)-0.5*np.diag(cov_log).reshape(-1,1)\n",
    "    \n",
    "    return mu_log, cov_log"
   ]
  },
  {
   "cell_type": "code",
   "execution_count": 548,
   "metadata": {},
   "outputs": [],
   "source": [
    "def generate_line_map(lines):\n",
    "    n_node = 4\n",
    "    n_link = lines+3\n",
    "\n",
    "    A = np.zeros((n_node,n_link))\n",
    "    A[0,0:2] = 1\n",
    "    A[1,0:2] = -1\n",
    "    A[2,2:4] = 1\n",
    "    A[3,2:4] = -1\n",
    "    A[1,4:] = 1\n",
    "    A[2,4:] = -1\n",
    "\n",
    "\n",
    "    return A"
   ]
  },
  {
   "cell_type": "code",
   "execution_count": 549,
   "metadata": {},
   "outputs": [
    {
     "data": {
      "text/plain": [
       "array([[ 1.,  1.,  0.,  0.,  0.,  0.,  0.],\n",
       "       [-1., -1.,  0.,  0.,  1.,  1.,  1.],\n",
       "       [ 0.,  0.,  1.,  1., -1., -1., -1.],\n",
       "       [ 0.,  0., -1., -1.,  0.,  0.,  0.]])"
      ]
     },
     "execution_count": 549,
     "metadata": {},
     "output_type": "execute_result"
    }
   ],
   "source": [
    "generate_line_map(4)"
   ]
  },
  {
   "cell_type": "code",
   "execution_count": 560,
   "metadata": {},
   "outputs": [
    {
     "name": "stdout",
     "output_type": "stream",
     "text": [
      "[1 2]\n",
      "0.7071067811865476\n"
     ]
    }
   ],
   "source": [
    "cov1 = np.arange(4).reshape(-1)\n",
    "cov1 = np.delete(cov1,[i for i in range(0,4,3)])\n",
    "print(cov1)\n",
    "print(np.std(cov1,ddof=1))"
   ]
  },
  {
   "cell_type": "code",
   "execution_count": 41,
   "metadata": {},
   "outputs": [],
   "source": [
    "from scipy.stats import norm, lognorm"
   ]
  },
  {
   "cell_type": "code",
   "execution_count": 46,
   "metadata": {},
   "outputs": [],
   "source": [
    "class Node:\n",
    "    def __init__(self, cfg_in, cost_in, parent_node_in):\n",
    "        self.cfg = cfg_in\n",
    "        self.cost = cost_in\n",
    "        self.parent_node = parent_node_in"
   ]
  },
  {
   "cell_type": "code",
   "execution_count": 57,
   "metadata": {},
   "outputs": [],
   "source": [
    "pq = PriorityQueue()\n",
    "\n",
    "pq.put((1,Node('a',1,'c')))\n",
    "pq.put((2,Node('b',1,'c')))\n",
    "pq.put((3,Node('c',1,'c')))\n",
    "pq.put((4,Node('d',1,'c')))"
   ]
  },
  {
   "cell_type": "code",
   "execution_count": 48,
   "metadata": {},
   "outputs": [
    {
     "name": "stdout",
     "output_type": "stream",
     "text": [
      "[(1, <__main__.Node object at 0x7ff5880beb50>), (2, <__main__.Node object at 0x7ff588459d50>), (3, <__main__.Node object at 0x7ff5b8a0fa90>), (4, <__main__.Node object at 0x7ff5b8a0f0d0>)]\n"
     ]
    }
   ],
   "source": [
    "print(pq.queue)"
   ]
  },
  {
   "cell_type": "code",
   "execution_count": 58,
   "metadata": {},
   "outputs": [
    {
     "ename": "TypeError",
     "evalue": "'tuple' object does not support item assignment",
     "output_type": "error",
     "traceback": [
      "\u001b[0;31m---------------------------------------------------------------------------\u001b[0m",
      "\u001b[0;31mTypeError\u001b[0m                                 Traceback (most recent call last)",
      "\u001b[0;32m<ipython-input-58-99ba24035f4b>\u001b[0m in \u001b[0;36m<module>\u001b[0;34m\u001b[0m\n\u001b[1;32m      1\u001b[0m \u001b[0;32mfor\u001b[0m \u001b[0mi\u001b[0m \u001b[0;32min\u001b[0m \u001b[0mpq\u001b[0m\u001b[0;34m.\u001b[0m\u001b[0mqueue\u001b[0m\u001b[0;34m:\u001b[0m\u001b[0;34m\u001b[0m\u001b[0;34m\u001b[0m\u001b[0m\n\u001b[1;32m      2\u001b[0m     \u001b[0;32mif\u001b[0m\u001b[0;34m(\u001b[0m\u001b[0mi\u001b[0m\u001b[0;34m[\u001b[0m\u001b[0;36m1\u001b[0m\u001b[0;34m]\u001b[0m\u001b[0;34m.\u001b[0m\u001b[0mcfg\u001b[0m\u001b[0;34m==\u001b[0m\u001b[0;34m'c'\u001b[0m\u001b[0;34m)\u001b[0m\u001b[0;34m:\u001b[0m\u001b[0;34m\u001b[0m\u001b[0;34m\u001b[0m\u001b[0m\n\u001b[0;32m----> 3\u001b[0;31m         \u001b[0mi\u001b[0m\u001b[0;34m[\u001b[0m\u001b[0;36m0\u001b[0m\u001b[0;34m]\u001b[0m\u001b[0;34m=\u001b[0m\u001b[0;34m'e'\u001b[0m\u001b[0;34m\u001b[0m\u001b[0;34m\u001b[0m\u001b[0m\n\u001b[0m\u001b[1;32m      4\u001b[0m \u001b[0mprint\u001b[0m\u001b[0;34m(\u001b[0m\u001b[0mpq\u001b[0m\u001b[0;34m.\u001b[0m\u001b[0mqueue\u001b[0m\u001b[0;34m)\u001b[0m\u001b[0;34m\u001b[0m\u001b[0;34m\u001b[0m\u001b[0m\n",
      "\u001b[0;31mTypeError\u001b[0m: 'tuple' object does not support item assignment"
     ]
    }
   ],
   "source": [
    "for i in pq.queue:\n",
    "    if(i[1].cfg=='c'):\n",
    "        pq.queue.remove(i)\n",
    "print(pq.queue)"
   ]
  },
  {
   "cell_type": "code",
   "execution_count": 52,
   "metadata": {},
   "outputs": [
    {
     "name": "stdout",
     "output_type": "stream",
     "text": [
      "(1, <__main__.Node object at 0x7ff5880beb50>)\n",
      "(2, <__main__.Node object at 0x7ff588459d50>)\n",
      "(4, <__main__.Node object at 0x7ff5b8a0f0d0>)\n"
     ]
    }
   ],
   "source": [
    "while not pq.empty():\n",
    "    print(pq.get())"
   ]
  },
  {
   "cell_type": "code",
   "execution_count": 55,
   "metadata": {},
   "outputs": [
    {
     "name": "stdout",
     "output_type": "stream",
     "text": [
      "<class 'type'>\n"
     ]
    }
   ],
   "source": [
    "print(type(PriorityQueue))"
   ]
  },
  {
   "cell_type": "code",
   "execution_count": 96,
   "metadata": {},
   "outputs": [],
   "source": [
    "import heapq\n",
    "\n",
    "class MaxPriorityQueue(object):\n",
    "    def __init__(self):\n",
    "        self._queue = []\n",
    "        self._index = 0\n",
    "\n",
    "    def put(self, priority, item):\n",
    "        heapq.heappush(self._queue, (-priority, self._index, item))\n",
    "        self._index += 1\n",
    "\n",
    "    def get(self):\n",
    "        tup = heapq.heappop(self._queue)\n",
    "        return -tup[0], tup[2]\n",
    "\n",
    "    def qsize(self):\n",
    "        return len(self._queue)\n",
    "\n",
    "    def empty(self):\n",
    "        return True if not self._queue else False\n",
    "    \n",
    "    def delete(self, cfg):\n",
    "        self._queue = [(p,idx,item) for p,idx,item in self._queue if item.cfg != cfg]\n",
    "        heapq.heapify(self._queue)"
   ]
  },
  {
   "cell_type": "code",
   "execution_count": 101,
   "metadata": {},
   "outputs": [
    {
     "name": "stdout",
     "output_type": "stream",
     "text": [
      "[(-4, 3, <__main__.Node object at 0x7ff5987cb790>), (-3, 2, <__main__.Node object at 0x7ff5987cb210>), (-2, 1, <__main__.Node object at 0x7ff5987cb8d0>), (-1, 0, <__main__.Node object at 0x7ff5987cb550>)]\n"
     ]
    }
   ],
   "source": [
    "mypq = MaxPriorityQueue()\n",
    "mypq.put(1,Node('a',1,'c'))\n",
    "mypq.put(2,Node('b',1,'c'))\n",
    "mypq.put(3,Node('c',1,'c'))\n",
    "mypq.put(4,Node('d',1,'c'))\n",
    "print(mypq._queue)"
   ]
  },
  {
   "cell_type": "code",
   "execution_count": 102,
   "metadata": {},
   "outputs": [
    {
     "name": "stdout",
     "output_type": "stream",
     "text": [
      "(4, <__main__.Node object at 0x7ff5987cb790>)\n",
      "(2, <__main__.Node object at 0x7ff5987cb8d0>)\n",
      "(1, <__main__.Node object at 0x7ff5987cb550>)\n"
     ]
    }
   ],
   "source": [
    "mypq.delete('c')\n",
    "while not mypq.empty():\n",
    "    print(mypq.get())"
   ]
  },
  {
   "cell_type": "code",
   "execution_count": 5,
   "metadata": {},
   "outputs": [],
   "source": [
    "import networkx as nx"
   ]
  },
  {
   "cell_type": "code",
   "execution_count": 250,
   "metadata": {},
   "outputs": [],
   "source": [
    "def map_to_graph(A,mu):\n",
    "    G = nx.MultiDiGraph()\n",
    "    \n",
    "    for i in range(A.shape[1]):\n",
    "        start = np.where(A[:,i]==1)[0].item()\n",
    "        end = np.where(A[:,i]==-1)[0].item()\n",
    "        G.add_edge(start, end, weight = mu[i].item(), index = i)\n",
    "\n",
    "    return G"
   ]
  },
  {
   "cell_type": "code",
   "execution_count": 280,
   "metadata": {},
   "outputs": [],
   "source": [
    "G = map_to_graph(A1,mu)"
   ]
  },
  {
   "cell_type": "code",
   "execution_count": 252,
   "metadata": {
    "scrolled": true
   },
   "outputs": [
    {
     "name": "stdout",
     "output_type": "stream",
     "text": [
      "[1]\n",
      "[4]\n",
      "[2]\n",
      "[3]\n",
      "(0, 1, 0, {'weight': 1, 'index': 0})\n",
      "(0, 2, 0, {'weight': 4, 'index': 3})\n",
      "(1, 2, 0, {'weight': 2, 'index': 1})\n",
      "(1, 2, 1, {'weight': 3, 'index': 2})\n"
     ]
    }
   ],
   "source": [
    "mu=np.array([1,2,3,4]).reshape(-1,1)\n",
    "for u,v,k,d in G.edges(data=True, keys=True):\n",
    "    print(mu[d['index']])\n",
    "    d['weight']=mu[d['index']].item()\n",
    "for i in G.edges(data=True, keys=True):\n",
    "    print(i)"
   ]
  },
  {
   "cell_type": "code",
   "execution_count": 300,
   "metadata": {},
   "outputs": [
    {
     "name": "stdout",
     "output_type": "stream",
     "text": [
      "0\n",
      "1\n",
      "2\n"
     ]
    }
   ],
   "source": [
    "for i in G.nodes():\n",
    "    print(i)"
   ]
  },
  {
   "cell_type": "code",
   "execution_count": 138,
   "metadata": {},
   "outputs": [],
   "source": [
    "path = nx.dijkstra_path(G, 14, 0)"
   ]
  },
  {
   "cell_type": "code",
   "execution_count": 139,
   "metadata": {},
   "outputs": [
    {
     "name": "stdout",
     "output_type": "stream",
     "text": [
      "[14, 9, 8, 4, 3, 2, 0]\n"
     ]
    }
   ],
   "source": [
    "print(path)"
   ]
  },
  {
   "cell_type": "code",
   "execution_count": 136,
   "metadata": {},
   "outputs": [],
   "source": [
    "def convert_node2onehot(path, G):\n",
    "    edges_ids=[]\n",
    "    node_pairs=zip(path[0:],path[1:])\n",
    "    for u,v in node_pairs:\n",
    "        edge = sorted(G[u][v], key=lambda x:G[u][v][x]['weight'])\n",
    "        edges_ids.append(G[u][v][edge[0]]['index'])\n",
    "        \n",
    "    onehot = np.zeros(G.size())\n",
    "    onehot[edges_ids] = 1\n",
    "    onehot = onehot.reshape(-1,1)\n",
    "    return edges_ids, onehot"
   ]
  },
  {
   "cell_type": "code",
   "execution_count": 141,
   "metadata": {},
   "outputs": [],
   "source": [
    "ans = convert_node2onehot(path,G)"
   ]
  },
  {
   "cell_type": "code",
   "execution_count": 194,
   "metadata": {},
   "outputs": [],
   "source": [
    "A1 = Generate_A(1)\n",
    "mu = np.array([10,9.1,10.2,20]).reshape(-1,1)"
   ]
  },
  {
   "cell_type": "code",
   "execution_count": 287,
   "metadata": {},
   "outputs": [],
   "source": [
    "from heapq import heapify, heappush, heappop"
   ]
  },
  {
   "cell_type": "code",
   "execution_count": 290,
   "metadata": {},
   "outputs": [],
   "source": [
    "class priority_dict(dict):\n",
    "    def __init__(self, *args, **kwargs):\n",
    "        super(priority_dict, self).__init__(*args, **kwargs)\n",
    "        self._rebuild_heap()\n",
    "\n",
    "    def _rebuild_heap(self):\n",
    "        self._heap = [(v, k) for k, v in self.items()]\n",
    "        heapify(self._heap)\n",
    "\n",
    "    def smallest(self):\n",
    "        \"\"\"Return the item with the lowest priority.\n",
    "        Raises IndexError if the object is empty.\n",
    "        \"\"\"\n",
    "        \n",
    "        heap = self._heap\n",
    "        v, k = heap[0]\n",
    "        while k not in self or self[k] != v:\n",
    "            heappop(heap)\n",
    "            v, k = heap[0]\n",
    "        return k\n",
    "\n",
    "    def get(self):\n",
    "        \"\"\"Return the item with the lowest priority and remove it.\n",
    "        Raises IndexError if the object is empty.\n",
    "        \"\"\"\n",
    "        \n",
    "        heap = self._heap\n",
    "        v, k = heappop(heap)\n",
    "        while k not in self or self[k] != v:\n",
    "            v, k = heappop(heap)\n",
    "        del self[k]\n",
    "        return k\n",
    "\n",
    "    def __setitem__(self, key, val):\n",
    "        # We are not going to remove the previous value from the heap,\n",
    "        # since this would have a cost O(n).\n",
    "        \n",
    "        super(priority_dict, self).__setitem__(key, val)\n",
    "        \n",
    "        if len(self._heap) < 2 * len(self):\n",
    "            heappush(self._heap, (val, key))\n",
    "        else:\n",
    "            # When the heap grows larger than 2 * len(self), we rebuild it\n",
    "            # from scratch to avoid wasting too much memory.\n",
    "            self._rebuild_heap()\n",
    "\n",
    "    def setdefault(self, key, val):\n",
    "        if key not in self:\n",
    "            self[key] = val\n",
    "            return val\n",
    "        return self[key]\n",
    "\n",
    "    def update(self, *args, **kwargs):\n",
    "        # Reimplementing dict.update is tricky -- see e.g.\n",
    "        # http://mail.python.org/pipermail/python-ideas/2007-May/000744.html\n",
    "        # We just rebuild the heap from scratch after passing to super.\n",
    "        \n",
    "        super(priority_dict, self).update(*args, **kwargs)\n",
    "        self._rebuild_heap()\n",
    "\n",
    "    def sorted_iter(self):\n",
    "        \"\"\"Sorted iterator of the priority dictionary items.\n",
    "        Beware: this will destroy elements as they are returned.\n",
    "        \"\"\"\n",
    "        \n",
    "        while self:\n",
    "            yield self.pop_smallest()\n",
    "            \n",
    "    def empty(self):\n",
    "        return True if not self._queue else False"
   ]
  },
  {
   "cell_type": "code",
   "execution_count": 292,
   "metadata": {},
   "outputs": [],
   "source": [
    "def djikstra(G, start, end):\n",
    "    cost = {}\n",
    "    for node in G.nodes():\n",
    "        cost[node] = float('inf')\n",
    "    cost[start] = 0\n",
    "    prev_node = {start: None}\n",
    "    prev_edge = {start: None}\n",
    "    PQ = priority_dict(cost)\n",
    "\n",
    "    while not PQ.empty():\n",
    "        curr_node = PQ.get()\n",
    "\n",
    "        if curr_node == end:\n",
    "            break\n",
    "\n",
    "        for _, next_node, d in G.out_edges(curr_node, data=True):\n",
    "            if next_node in PQ:\n",
    "                alt = cost[curr_node] + d['weight']\n",
    "                if alt < cost[next_node]:\n",
    "                    cost[next_node] = alt\n",
    "                    prev_node[next_node] = curr_node\n",
    "                    prev_edge[next_node] = d['index']\n",
    "                    PQ[next_node] = alt\n",
    "    \n",
    "    if curr_node == end:\n",
    "        path_cost = cost[end]\n",
    "        path = []\n",
    "        while curr_node is not None:\n",
    "            path.append(prev_edge[curr_node])\n",
    "            curr_node = prev_node[curr_node]\n",
    "        path.reverse()\n",
    "\n",
    "        onehot = np.zeros(G.size())\n",
    "        onehot[path] = 1\n",
    "        onehot = onehot.reshape(-1,1)\n",
    "\n",
    "    return path_cost, path, onehot"
   ]
  },
  {
   "cell_type": "code",
   "execution_count": null,
   "metadata": {},
   "outputs": [],
   "source": []
  }
 ],
 "metadata": {
  "kernelspec": {
   "display_name": "Python 3",
   "language": "python",
   "name": "python3"
  },
  "language_info": {
   "codemirror_mode": {
    "name": "ipython",
    "version": 3
   },
   "file_extension": ".py",
   "mimetype": "text/x-python",
   "name": "python",
   "nbconvert_exporter": "python",
   "pygments_lexer": "ipython3",
   "version": "3.7.7"
  }
 },
 "nbformat": 4,
 "nbformat_minor": 4
}
